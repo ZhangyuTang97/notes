{
 "cells": [
  {
   "cell_type": "code",
   "execution_count": null,
   "metadata": {},
   "outputs": [],
   "source": [
    "建立Node.js预测模型主要分为以下几个阶段：\n",
    "- 数据的分析及收集\n",
    "- 数据集的清洗及准备\n",
    "- 模型建立\n",
    "- 模型训练\n",
    "- 模型评估\n",
    "\n",
    "其中，模型训练与模型评估为互相循环的过程。"
   ]
  },
  {
   "cell_type": "code",
   "execution_count": null,
   "metadata": {},
   "outputs": [],
   "source": [
    "数据收集\n",
    "我们所要预测的是编写智能合约的Node.js语言，数据的特征有请 老婆 叙述。\n",
    "为了获得足够的有效的智能合约代码，同时规避法律风险，选择在GitHub上抓取相关项目代码。\n",
    "通过对典型智能合约代码的分析，智能合约代码中总是包含两种（得老婆描述）之一。因此，通过搜索代码的方式可以定位到GitHub保存的所有定义智能合约的代码文件。由于本项目旨在预测Node.js语言，语言被锁定在了JavaScript。"
   ]
  },
  {
   "cell_type": "code",
   "execution_count": null,
   "metadata": {},
   "outputs": [],
   "source": [
    "# generate url with base url and params\n",
    "def generate_url(number):\n",
    "    # assign language, page, keyword, type\n",
    "    url_params = \"l=JavaScript&p=\" + str(number) + \"&q=require(fabric-contract-api)+size%3A<3000&type=Code\"\n",
    "    base_url = 'https://github.com/search?'\n",
    "    full_url = base_url + url_params\n",
    "    full_url = urllib.parse.unquote(full_url)\n",
    "    print(full_url)\n",
    "    return full_url"
   ]
  },
  {
   "cell_type": "code",
   "execution_count": null,
   "metadata": {},
   "outputs": [],
   "source": [
    "这段代码用于拼接URL，使爬虫自动访问网址。"
   ]
  },
  {
   "cell_type": "code",
   "execution_count": null,
   "metadata": {},
   "outputs": [],
   "source": [
    "# get JavaScript file\n",
    "def get_file_content(count):\n",
    "    driver.get(urls[count])\n",
    "    time.sleep(2)\n",
    "    print(urls[count])\n",
    "    content = driver.page_source\n",
    "    try:\n",
    "        content = content.decode('UTF-8')\n",
    "    except:\n",
    "        print(\"爬取成功\")\n",
    "    else:\n",
    "        print(\"继续...\")\n",
    "    content = etree.HTML(content)\n",
    "    # find file label\n",
    "    file = content.xpath(\"/html/body/div[4]/div/main/div[3]/div/div[3]/div[2]/table/tbody/*\")\n",
    "    \n",
    "    if len(file) <= 0:\n",
    "        file = content.xpath(\"/html/body/div[4]/div/main/div[4]/div/div[3]/div[2]/table/tbody/*\")\n",
    "    \n",
    "    # extract file content by row\n",
    "    file_content = []\n",
    "    for row_num in range(len(file)):\n",
    "        row = ''.join(file[row_num].xpath(\".//td[2]//text()\"))\n",
    "        file_content.append(row + \"\\r\\n\")\n",
    "    # transform into string\n",
    "    file_content = ''.join(file_content)\n",
    "    return file_content"
   ]
  },
  {
   "cell_type": "code",
   "execution_count": null,
   "metadata": {},
   "outputs": [],
   "source": [
    "由于各个项目开放的权限不同导致GitHub界面会有不同的提示，不同访问权限的文件的代码需要定位到不同的div中。"
   ]
  },
  {
   "cell_type": "code",
   "execution_count": null,
   "metadata": {},
   "outputs": [],
   "source": [
    "contract类型的一共有2151个文件，shim类型的有4000个文件。"
   ]
  },
  {
   "cell_type": "code",
   "execution_count": null,
   "metadata": {},
   "outputs": [],
   "source": [
    "由于代码文件中会包含着大量的注释语句，清理数据的第一步便是删除文件中的注释行。"
   ]
  },
  {
   "cell_type": "code",
   "execution_count": null,
   "metadata": {},
   "outputs": [],
   "source": [
    "bak_file = path + \".bak\";\n",
    "os.rename(path, bak_file);\n",
    "    \n",
    "fp_src = open(bak_file);\n",
    "fp_dst = open(path, 'w');\n",
    "state = S_INIT;\n",
    "for line in fp_src.readlines():\n",
    "    for c in line:\n",
    "        if state == S_INIT:\n",
    "            if c == '/':\n",
    "                state = S_SLASH;\n",
    "            elif c == '\"''\"':\n",
    "                state = S_STR;\n",
    "                fp_dst.write(c);\n",
    "            else:\n",
    "                fp_dst.write(c);\n",
    "        elif state == S_SLASH:\n",
    "            if c == '*':\n",
    "                state = S_BLOCK_COMMENT;\n",
    "            elif c == '/':\n",
    "                state = S_LINE_COMMENT;\n",
    "            else:\n",
    "                fp_dst.write('/');\n",
    "                fp_dst.write(c);\n",
    "                state = S_INIT;\n",
    "        elif state == S_BLOCK_COMMENT:\n",
    "            if c == '*':\n",
    "                state = S_BLOCK_COMMENT_DOT;\n",
    "        elif state == S_BLOCK_COMMENT_DOT:\n",
    "            if c == '/':\n",
    "                state = S_INIT;\n",
    "            else:\n",
    "                state = S_BLOCK_COMMENT;\n",
    "        elif state == S_LINE_COMMENT:\n",
    "            if c == '\\n':\n",
    "                state = S_INIT;\n",
    "        elif state == S_STR:\n",
    "            if c == '\\\\':\n",
    "                state = S_STR_ESCAPE;\n",
    "            elif c == '\"':\n",
    "                state = S_INIT;\n",
    "            fp_dst.write(c);\n",
    "        elif state == S_STR_ESCAPE:\n",
    "            state = S_STR;\n",
    "            fp_dst.write(c);\n",
    "                \n",
    "                \n",
    "fp_src.close();\n",
    "fp_dst.close();\n",
    "os.remove(bak_file);"
   ]
  },
  {
   "cell_type": "code",
   "execution_count": null,
   "metadata": {},
   "outputs": [],
   "source": [
    "注释有两种类型，第一种是以“//”开头的一行，第二种是被“/*”和“*/”包裹的多行。本文通过首先将代码复制到一个临时文件中，接着遍历文件中的字符，识别关键的起始符号以确认是否是注释。非注释的代码语句都将被重新写入文件中。最后，临时文件会被删除。"
   ]
  },
  {
   "cell_type": "code",
   "execution_count": null,
   "metadata": {},
   "outputs": [],
   "source": [
    "本文使用Tokenizer对数据进行分词和编码。Tokenizer使用UTF-8对数据进行读取，在数据的预加载中，定位到了数据中有编码不一致的问题。所以采用下列代码对数据的编码格式进行清洗。"
   ]
  },
  {
   "cell_type": "code",
   "execution_count": null,
   "metadata": {},
   "outputs": [],
   "source": [
    "bak_file = path + \".bak\";\n",
    "os.rename(path, bak_file);\n",
    "    \n",
    "fp_src = open(bak_file);\n",
    "fp_dst = open(path, 'w', encoding=\"utf-8\");\n",
    "    \n",
    "for line in fp_src.readlines():\n",
    "    if line:\n",
    "        line = line.encode(\"utf-8\", \"ignore\")\n",
    "        fp_dst.write(str(line.decode('utf-8','strict')))\n",
    "    else:\n",
    "        break\n",
    "    \n",
    "fp_src.close()\n",
    "fp_dst.close()\n",
    "os.remove(bak_file)"
   ]
  },
  {
   "cell_type": "code",
   "execution_count": null,
   "metadata": {},
   "outputs": [],
   "source": [
    "与清理注释类似，本文使用一个指针对每一行进行UTF-8转码并忽略非UTF-8的字符，接着将转码后的行写回文件中。"
   ]
  },
  {
   "cell_type": "code",
   "execution_count": null,
   "metadata": {},
   "outputs": [],
   "source": [
    "数据清洗完毕后，需要对数据中的词和字符进行分词并编码，以便后续模型的处理。"
   ]
  },
  {
   "cell_type": "code",
   "execution_count": null,
   "metadata": {},
   "outputs": [],
   "source": [
    "import os\n",
    "from tokenizers.models import BPE\n",
    "from tokenizers import Tokenizer\n",
    "from tokenizers.decoders import ByteLevel as ByteLevelDecoder\n",
    "from tokenizers.normalizers import NFKC, Sequence\n",
    "from tokenizers.pre_tokenizers import ByteLevel\n",
    "from tokenizers.trainers import BpeTrainer\n",
    "\n",
    "class BPE_token(object):\n",
    "    def __init__(self):\n",
    "        self.tokenizer = Tokenizer(BPE())\n",
    "        self.tokenizer.normalizer = Sequence([\n",
    "            NFKC()\n",
    "        ])\n",
    "        self.tokenizer.pre_tokenizer = ByteLevel()\n",
    "        self.tokenizer.decoder = ByteLevelDecoder()\n",
    "\n",
    "    def bpe_train(self, paths):\n",
    "        trainer = BpeTrainer(vocab_size=50000, show_progress=True, inital_alphabet=ByteLevel.alphabet(), special_tokens=[\n",
    "            \"<s>\",\n",
    "            \"<pad>\",\n",
    "            \"</s>\",\n",
    "            \"<unk>\",\n",
    "            \"<mask>\"\n",
    "        ])\n",
    "        self.tokenizer.train(trainer, paths)\n",
    "\n",
    "    def save_tokenizer(self, location, prefix=None):\n",
    "        if not os.path.exists(location):\n",
    "            os.makedirs(location)\n",
    "        self.tokenizer.model.save(location, prefix)"
   ]
  },
  {
   "cell_type": "code",
   "execution_count": null,
   "metadata": {},
   "outputs": [],
   "source": [
    "tokenizers包提供了典型的分词方法。本文使用BPE编码。bpe_train()为训练分词模型的方法，它定义了五种特殊的token，用以对特殊字符进行处理。"
   ]
  },
  {
   "cell_type": "code",
   "execution_count": null,
   "metadata": {},
   "outputs": [],
   "source": [
    "from tokeniser import BPE_token\n",
    "from pathlib import Path\n",
    "import os\n",
    "\n",
    "\n",
    "# the folder 'data' contains all the files\n",
    "paths = [str(x) for x in Path(\"./data/\").glob(\"**/*.js\")]\n",
    "tokenizer = BPE_token()\n",
    "\n",
    "# train the tokenizer model\n",
    "tokenizer.bpe_train(paths)\n",
    "\n",
    "# saving the tokenized data in our specified folder \n",
    "save_path = 'tokenized_data'\n",
    "tokenizer.save_tokenizer(save_path)"
   ]
  },
  {
   "cell_type": "code",
   "execution_count": null,
   "metadata": {},
   "outputs": [],
   "source": [
    "接着使用定义好的分词模型对数据进行分词和编码，并将相关信息保存在文件中。"
   ]
  },
  {
   "cell_type": "code",
   "execution_count": null,
   "metadata": {},
   "outputs": [],
   "source": [
    "import tensorflow as tf\n",
    "from transformers import GPT2Config, TFGPT2LMHeadModel, GPT2Tokenizer\n",
    "\n",
    "\n",
    "# loading tokenizer from the saved model path\n",
    "tokenizer = GPT2Tokenizer.from_pretrained(save_path)\n",
    "tokenizer.add_special_tokens({\n",
    "  \"eos_token\": \"</s>\",\n",
    "  \"bos_token\": \"<s>\",\n",
    "  \"unk_token\": \"<unk>\",\n",
    "  \"pad_token\": \"<pad>\",\n",
    "  \"mask_token\": \"<mask>\"\n",
    "})\n",
    "\n",
    "# creating the configurations from which the model can be made\n",
    "config = GPT2Config(\n",
    "  vocab_size=tokenizer.vocab_size,\n",
    "  bos_token_id=tokenizer.bos_token_id,\n",
    "  eos_token_id=tokenizer.eos_token_id\n",
    ")\n",
    "\n",
    "# creating the model\n",
    "model = TFGPT2LMHeadModel(config)"
   ]
  },
  {
   "cell_type": "code",
   "execution_count": null,
   "metadata": {},
   "outputs": [],
   "source": [
    "编码完成后，就可以进行模型的训练。首先将先前保存的分词模型加载，并加入五个特殊字符的定义。接着，使用分词模型的词汇表作为配置注入GPT2并形成适应本项目数据的模型。"
   ]
  },
  {
   "cell_type": "code",
   "execution_count": null,
   "metadata": {},
   "outputs": [],
   "source": [
    "single_string = ''\n",
    "for filename in paths:\n",
    "    with open(filename, \"r\", encoding='utf-8') as f:\n",
    "        x = f.read()\n",
    "    single_string += x + tokenizer.eos_token\n",
    "\n",
    "string_tokenized = tokenizer.encode(single_string)"
   ]
  },
  {
   "cell_type": "code",
   "execution_count": null,
   "metadata": {},
   "outputs": [],
   "source": [
    "接着将数据集的语句按照编码，形成词汇编码序列，以便模型的输入和输出。本项目将每个文件中的语句连接起来形成一个字符串，其中文件与文件之间加入特殊字符以便标识文件的结尾。接着编码模型便将得到的字符串按照词汇表进行编码。"
   ]
  },
  {
   "cell_type": "code",
   "execution_count": null,
   "metadata": {},
   "outputs": [],
   "source": [
    "for i in range(0, len(string_tokenized) - block_size + 1, block_size):\n",
    "    examples.append(string_tokenized[i:i + block_size])\n",
    "\n",
    "inputs, labels = [], []\n",
    "\n",
    "for ex in examples:\n",
    "    inputs.append(ex[:-1])\n",
    "    labels.append(ex[1:])"
   ]
  },
  {
   "cell_type": "code",
   "execution_count": null,
   "metadata": {},
   "outputs": [],
   "source": [
    "对于已成为编码序列的数据集，数据被分为多个块，本项目将块的大小定义为100，即每一个块有100个词。接着对于每一个块，本项目将数据根据上下文分为输入集和输出集。"
   ]
  },
  {
   "cell_type": "code",
   "execution_count": null,
   "metadata": {},
   "outputs": [],
   "source": [
    "percentage = 0.8\n",
    "ptr1 = int(len(inputs) * percentage)\n",
    "\n",
    "train_inputs = inputs[:ptr1]\n",
    "test_inputs = inputs[ptr1:]\n",
    "train_labels = labels[:ptr1]\n",
    "test_labels = labels[ptr1:]\n",
    "\n",
    "ptr2 = int(len(train_inputs) * percentage)\n",
    "val_inputs = train_inputs[ptr2:]\n",
    "train_inputs = train_inputs[:ptr2]\n",
    "val_labels = train_labels[ptr2:]\n",
    "train_labels = train_labels[:ptr2]"
   ]
  },
  {
   "cell_type": "code",
   "execution_count": null,
   "metadata": {},
   "outputs": [],
   "source": [
    "接着是将数据集分割为训练集、验证集和测试集。训练集和测试集按照8:2的比例切分，而训练集中又按照8:2的比例分割成最终的训练集和验证集。"
   ]
  },
  {
   "cell_type": "code",
   "execution_count": null,
   "metadata": {},
   "outputs": [],
   "source": [
    "train_dataset = tf.data.Dataset.from_tensor_slices((train_inputs, train_labels))\n",
    "train_dataset = dataset.shuffle(BUFFER_SIZE).batch(BATCH_SIZE, drop_remainder=True)"
   ]
  },
  {
   "cell_type": "code",
   "execution_count": null,
   "metadata": {},
   "outputs": [],
   "source": [
    "数据集准备完毕后，训练集会被TensorFlow根据输入和输出准备好放入模型的数据。而数据会根据设定的buffer size和batch size将数据打乱。本项目中两个值分别为1000和12。"
   ]
  },
  {
   "cell_type": "code",
   "execution_count": null,
   "metadata": {},
   "outputs": [],
   "source": [
    "# defining our optimizer\n",
    "optimizer = tf.keras.optimizers.Adam(learning_rate=3e-5, epsilon=1e-08, clipnorm=1.0)\n",
    "\n",
    "# definining our loss function\n",
    "loss = tf.keras.losses.SparseCategoricalCrossentropy(from_logits=True)\n",
    "\n",
    "# compiling the model\n",
    "model.compile(optimizer=optimizer, loss=[loss, *[None] * model.config.n_layer])\n",
    "\n",
    "es = tf.keras.callbacks.EarlyStopping(monitor= 'val_loss', min_delta=0, patience=10)\n",
    "\n",
    "history = model.fit(train_dataset, epochs=num_epoch, validation_data=val_dataset,callbacks=[es])"
   ]
  },
  {
   "cell_type": "code",
   "execution_count": null,
   "metadata": {},
   "outputs": [],
   "source": [
    "在模型训练前，优化函数使用了Adam而损失函数使用的是稀疏类别交叉熵。回调函数在模型中被使用以帮助模型在性能无法提升时能够提前终止训练。回调函数监控的指标为验证集的损失。"
   ]
  },
  {
   "cell_type": "code",
   "execution_count": null,
   "metadata": {},
   "outputs": [],
   "source": [
    "最后，训练过程中训练集和验证集的损失被记录并绘制出来，以评估模型的训练过程和训练结果。"
   ]
  },
  {
   "cell_type": "code",
   "execution_count": 1,
   "metadata": {},
   "outputs": [],
   "source": [
    "history = {'loss': [1.3521244525909424, 0.6024336814880371, 0.46361449360847473, 0.38082611560821533, 0.32179468870162964, 0.27701231837272644, 0.242515429854393, 0.21426762640476227, 0.19150666892528534, 0.173129603266716, 0.1574750691652298, 0.1447795033454895, 0.1342260241508484, 0.12529294192790985, 0.11779193580150604, 0.1115170270204544, 0.10626283288002014, 0.10192256420850754, 0.09807325154542923, 0.09480953216552734, 0.0921429768204689], 'logits_loss': [1.3521244525909424, 0.6024336814880371, 0.46361449360847473, 0.38082611560821533, 0.32179468870162964, 0.27701231837272644, 0.242515429854393, 0.21426762640476227, 0.19150666892528534, 0.173129603266716, 0.1574750691652298, 0.1447795033454895, 0.1342260241508484, 0.12529294192790985, 0.11779193580150604, 0.1115170270204544, 0.10626283288002014, 0.10192256420850754, 0.09807325154542923, 0.09480953216552734, 0.0921429768204689], 'logits_accuracy': [0.760389506816864, 0.8825010061264038, 0.9047843813896179, 0.918337881565094, 0.9283797144889832, 0.9359561800956726, 0.9420737028121948, 0.9473194479942322, 0.9516181945800781, 0.9552165865898132, 0.9584880471229553, 0.9610629677772522, 0.9633074998855591, 0.9652767181396484, 0.9669694304466248, 0.9683708548545837, 0.969559371471405, 0.9705589413642883, 0.9714398384094238, 0.9721934795379639, 0.9728447198867798], 'past_key_values_1_accuracy': [0.0019942044746130705, 0.001996072009205818, 0.0020375840831547976, 0.0020486093126237392, 0.00201170495711267, 0.002022895961999893, 0.0020396970212459564, 0.002056916244328022, 0.0020321039482951164, 0.0020238261204212904, 0.002015432808548212, 0.002022997010499239, 0.002013507531955838, 0.002025412395596504, 0.002023090608417988, 0.0020287437364459038, 0.002060788217931986, 0.0020390984136611223, 0.0020922126714140177, 0.00207719998434186, 0.002139998134225607], 'past_key_values_2_accuracy': [0.0021608585957437754, 0.0022357420530170202, 0.0021959964651614428, 0.002204981166869402, 0.002210490172728896, 0.002217066241428256, 0.00226502469740808, 0.0022805205080658197, 0.002303061308339238, 0.0023490297608077526, 0.0023651167284697294, 0.0024310299195349216, 0.0023913495242595673, 0.0024620217736810446, 0.0024771352764219046, 0.002513275481760502, 0.0025572970043867826, 0.0025526098906993866, 0.002551139099523425, 0.002525829477235675, 0.0025251731276512146], 'past_key_values_3_accuracy': [0.0019554756581783295, 0.0020337984897196293, 0.0020703496411442757, 0.0020806249231100082, 0.0020525609143078327, 0.0020481550600379705, 0.0020761038176715374, 0.0020783969666808844, 0.002058480866253376, 0.0020530440378934145, 0.0020830982830375433, 0.0021285403054207563, 0.0021458386909216642, 0.0021469276398420334, 0.002138966927304864, 0.002155912108719349, 0.002158688148483634, 0.0022079951595515013, 0.002175820991396904, 0.0022037553135305643, 0.00219397759065032], 'past_key_values_4_accuracy': [0.002129866974428296, 0.0020797019824385643, 0.0020611921790987253, 0.002039653714746237, 0.002063470659777522, 0.002094354247674346, 0.0021027764305472374, 0.0021120638120919466, 0.002070356858894229, 0.0020363512448966503, 0.0020633984822779894, 0.002096546348184347, 0.0021192023996263742, 0.0021111767273396254, 0.002127963351085782, 0.002117212163284421, 0.002107592998072505, 0.0021202838979661465, 0.0021298308856785297, 0.0021336236968636513, 0.0020800770726054907], 'past_key_values_5_accuracy': [0.0023479913361370564, 0.0025449665263295174, 0.0025680409744381905, 0.0025516797322779894, 0.0025615368504077196, 0.0025361767038702965, 0.0025853465776890516, 0.0025248343590646982, 0.0024647328536957502, 0.0025655028875917196, 0.0025102037470787764, 0.0024550778325647116, 0.0024878433905541897, 0.0025221086107194424, 0.002453051507472992, 0.0024523232132196426, 0.0024371736217290163, 0.0024517320562154055, 0.0025008514057844877, 0.0024643652141094208, 0.0024938283022493124], 'past_key_values_6_accuracy': [0.0022243347484618425, 0.0022329154890030622, 0.002194208325818181, 0.002214268548414111, 0.002255535451695323, 0.0022247096057981253, 0.0022106703836470842, 0.0022644696291536093, 0.0022568623535335064, 0.002249947050586343, 0.002292028861120343, 0.0022488150279968977, 0.002237869193777442, 0.002186824567615986, 0.0021780850365757942, 0.002177775138989091, 0.002167492639273405, 0.0021777895744889975, 0.0022084927186369896, 0.0021813875064253807, 0.0021346115972846746], 'past_key_values_7_accuracy': [0.0022612607572227716, 0.002192686777561903, 0.0021463867742568254, 0.002213431987911463, 0.0021841854322701693, 0.0022319636773318052, 0.0022982372902333736, 0.0022518651094287634, 0.002203387441113591, 0.0021739029325544834, 0.0022125523537397385, 0.002216424560174346, 0.002173837972804904, 0.0021912662778049707, 0.002207245212048292, 0.002210814505815506, 0.0022148380521684885, 0.0021846757736057043, 0.002196631161496043, 0.002199883107095957, 0.002243493450805545], 'past_key_values_8_accuracy': [0.002247207099571824, 0.0021704488899558783, 0.002093835035338998, 0.0020606224425137043, 0.0020228815264999866, 0.0020887369755655527, 0.0020510682370513678, 0.0020790458656847477, 0.0020759885665029287, 0.002062165644019842, 0.002046287525445223, 0.002076320117339492, 0.0020993873476982117, 0.002118993317708373, 0.0021015722304582596, 0.0021617384627461433, 0.0020892200991511345, 0.0021160368341952562, 0.0021359168458729982, 0.0021474610548466444, 0.0021069657523185015], 'past_key_values_9_accuracy': [0.0020694411359727383, 0.0022065674420446157, 0.002157354261726141, 0.0021452258806675673, 0.0021571379620581865, 0.002150381449609995, 0.0021749339066445827, 0.002167442115023732, 0.0021191302221268415, 0.0021419809199869633, 0.0021395583171397448, 0.0021429976914077997, 0.002154679037630558, 0.002168235369026661, 0.002171299885958433, 0.00217357836663723, 0.0021841637790203094, 0.002160058356821537, 0.002143206773325801, 0.002120889723300934, 0.002140719210729003], 'past_key_values_10_accuracy': [0.0020986374001950026, 0.0020684965420514345, 0.002142947167158127, 0.0022099060006439686, 0.0022707213647663593, 0.0023016335908323526, 0.002348366193473339, 0.002400290686637163, 0.0023316950537264347, 0.0023115556687116623, 0.002298843115568161, 0.0023275346029549837, 0.0023495559580624104, 0.0023675973061472178, 0.002349346876144409, 0.00231175753287971, 0.0022881280165165663, 0.0022639071103185415, 0.002363689010962844, 0.0023690827656537294, 0.002349166665226221], 'past_key_values_11_accuracy': [0.0019718369003385305, 0.002092371229082346, 0.0020773368887603283, 0.002074445364996791, 0.0020696574356406927, 0.00203769956715405, 0.001997939543798566, 0.001991111086681485, 0.0019943558145314455, 0.0020058497320860624, 0.0020262273028492928, 0.0020911958999931812, 0.0020886000711470842, 0.002019499661400914, 0.0020652590319514275, 0.0021026176400482655, 0.002122713951393962, 0.0021128065418452024, 0.002145197009667754, 0.00213377526961267, 0.0021770827006548643], 'past_key_values_12_accuracy': [0.0027116858400404453, 0.002371253212913871, 0.002535109641030431, 0.002468323800712824, 0.002269711811095476, 0.002294545527547598, 0.0023614971432834864, 0.0023562691640108824, 0.0025228802114725113, 0.0024611635599285364, 0.002520356560125947, 0.002426624298095703, 0.002436654409393668, 0.0023717794101685286, 0.0024180507753044367, 0.002562214620411396, 0.0025028849486261606, 0.002512403065338731, 0.002490287646651268, 0.002495587570592761, 0.0024744169786572456], 'val_loss': [0.712103009223938, 0.559929370880127, 0.4899272620677948, 0.4465990960597992, 0.4163851737976074, 0.39263978600502014, 0.3792014420032501, 0.36363664269447327, 0.36296460032463074, 0.3566383123397827, 0.352920800447464, 0.35341203212738037, 0.35580936074256897, 0.3548421263694763, 0.3585816025733948, 0.35705673694610596, 0.3590763807296753, 0.35596373677253723, 0.3627934157848358, 0.36326155066490173, 0.3645002543926239], 'val_logits_loss': [0.712103009223938, 0.559929370880127, 0.4899272620677948, 0.4465990960597992, 0.4163851737976074, 0.39263978600502014, 0.3792014420032501, 0.36363664269447327, 0.36296460032463074, 0.3566383123397827, 0.352920800447464, 0.35341203212738037, 0.35580936074256897, 0.3548421263694763, 0.3585816025733948, 0.35705673694610596, 0.3590763807296753, 0.35596373677253723, 0.3627934157848358, 0.36326155066490173, 0.3645002543926239], 'val_logits_accuracy': [0.8700208067893982, 0.8949099183082581, 0.9065476655960083, 0.9147519469261169, 0.9208124279975891, 0.9257023334503174, 0.9290007948875427, 0.9327990412712097, 0.9335646629333496, 0.935883641242981, 0.9364395141601562, 0.9381174445152283, 0.9382434487342834, 0.9387716054916382, 0.9395462274551392, 0.9399207234382629, 0.9404170513153076, 0.9407867193222046, 0.941013753414154, 0.9411293864250183, 0.9415294528007507], 'val_past_key_values_1_accuracy': [0.0019983218517154455, 0.001990101533010602, 0.0019788239151239395, 0.0020533252973109484, 0.0019204460550099611, 0.0019923225045204163, 0.001982602523639798, 0.0020379230845719576, 0.0020011195447295904, 0.001954134553670883, 0.0019912265706807375, 0.0020025905687361956, 0.0019935627933591604, 0.0021117031574249268, 0.0019060822669416666, 0.001985919428989291, 0.0020366250537335873, 0.002100396901369095, 0.002052950207144022, 0.0021550541277974844, 0.002207115525379777], 'val_past_key_values_2_accuracy': [0.0022873275447636843, 0.002173859626054764, 0.0022518220357596874, 0.0022921732161194086, 0.0022002796176820993, 0.002242880640551448, 0.002272040816023946, 0.002317583654075861, 0.0023343702778220177, 0.0023120460100471973, 0.002381384139880538, 0.002480949740856886, 0.0024578755255788565, 0.0024963519535958767, 0.002468028338626027, 0.0025285982992500067, 0.0025975615717470646, 0.0025785830803215504, 0.0025416065473109484, 0.002496900036931038, 0.002731508109718561], 'val_past_key_values_3_accuracy': [0.0020087051670998335, 0.0020751014817506075, 0.002031635260209441, 0.002072390401735902, 0.001986813498660922, 0.0020568151958286762, 0.0020135219674557447, 0.0020378942135721445, 0.001903082593344152, 0.002027308801189065, 0.0020469508599489927, 0.002075938042253256, 0.0021455935202538967, 0.0020955512300133705, 0.0020995314698666334, 0.0021381808910518885, 0.0021308837458491325, 0.00221273978240788, 0.002274175174534321, 0.00212453817948699, 0.0022416403517127037], 'val_past_key_values_4_accuracy': [0.002209307625889778, 0.0021079247817397118, 0.002086407970637083, 0.0020554019138216972, 0.0020330199040472507, 0.002104694489389658, 0.002116750692948699, 0.0020620357245206833, 0.0020058208610862494, 0.0020497774239629507, 0.0020073496270924807, 0.002080524107441306, 0.002115827752277255, 0.0020742362830787897, 0.002087129047140479, 0.0020590650383383036, 0.00208998448215425, 0.0020905903074890375, 0.0020277705043554306, 0.0019999081268906593, 0.002072880743071437], 'val_past_key_values_5_accuracy': [0.0026455274783074856, 0.0025897163432091475, 0.0025548452977091074, 0.00260428199544549, 0.0026189920026808977, 0.00243647419847548, 0.0025572681333869696, 0.002335177967324853, 0.0023877008352428675, 0.002476709894835949, 0.002377865370362997, 0.002470393432304263, 0.002533386228606105, 0.002484353259205818, 0.0024241581559181213, 0.002408035099506378, 0.0023898351937532425, 0.0023906140122562647, 0.0023594636004418135, 0.002404948929324746, 0.002471835585311055], 'val_past_key_values_6_accuracy': [0.0023350047413259745, 0.0022491973359137774, 0.0022698487155139446, 0.002298143692314625, 0.002233449136838317, 0.002189059741795063, 0.002199731767177582, 0.002287962008267641, 0.002324967412278056, 0.0022308530751615763, 0.002348416717723012, 0.0022551100701093674, 0.0022089036647230387, 0.002146660815924406, 0.0021382097620517015, 0.002150496933609247, 0.0021990106906741858, 0.002142795827239752, 0.0022589461877942085, 0.002157073002308607, 0.00226967572234571], 'val_past_key_values_7_accuracy': [0.0021884252782911062, 0.0021910788491368294, 0.002108674729242921, 0.0022055867593735456, 0.002183406613767147, 0.002404198981821537, 0.0022994703613221645, 0.002245534211397171, 0.0022800015285611153, 0.0021936458069831133, 0.00221634516492486, 0.002173946239054203, 0.0022062789648771286, 0.0022342565935105085, 0.002241986570879817, 0.0022596095222979784, 0.002185021759942174, 0.002177493879571557, 0.002153986832126975, 0.002224190393462777, 0.0022642819676548243], 'val_past_key_values_8_accuracy': [0.0023044890258461237, 0.0021820799447596073, 0.0020599013660103083, 0.0020676024723798037, 0.001957653323188424, 0.0020579977426677942, 0.002141440287232399, 0.0021061652805656195, 0.0020177618134766817, 0.002005301881581545, 0.0019777279812842607, 0.0021140393801033497, 0.0020822833757847548, 0.0020637374836951494, 0.0021847046446055174, 0.0021725615952163935, 0.0021030791103839874, 0.00211204937659204, 0.0021626974921673536, 0.0021373156923800707, 0.002204490825533867], 'val_past_key_values_9_accuracy': [0.0021922036539763212, 0.0022265268489718437, 0.002155832713469863, 0.0021566981449723244, 0.002116779563948512, 0.0021564096678048372, 0.0022210178431123495, 0.002126211067661643, 0.0021362772677093744, 0.002174407709389925, 0.002188627142459154, 0.0022212197072803974, 0.0021977992728352547, 0.0021667643450200558, 0.0022091632708907127, 0.0021957512944936752, 0.0022088747937232256, 0.002156813396140933, 0.002115135546773672, 0.0021598420571535826, 0.0021600439213216305], 'val_past_key_values_10_accuracy': [0.0020471815951168537, 0.0021076940465718508, 0.0021939054131507874, 0.0023078059311956167, 0.0023542430717498064, 0.0023428788408637047, 0.00234400387853384, 0.00237362552434206, 0.0023858260829001665, 0.0022035965230315924, 0.002400362864136696, 0.00229436531662941, 0.0023788749240338802, 0.0024453289806842804, 0.002444752026349306, 0.0022181335370987654, 0.0023243618197739124, 0.002228459110483527, 0.002347753383219242, 0.0024152169935405254, 0.0023765387013554573], 'val_past_key_values_11_accuracy': [0.002174609573557973, 0.002076947595924139, 0.002078043529763818, 0.0021624956279993057, 0.002057045930996537, 0.002048710361123085, 0.0019523174269124866, 0.0020132334902882576, 0.0019938223995268345, 0.002013377845287323, 0.0020521427504718304, 0.0020627279300242662, 0.0020610261708498, 0.0020991277415305376, 0.0020872445311397314, 0.0021317778155207634, 0.0020646604243665934, 0.0020781876519322395, 0.0021273649763315916, 0.002117241034284234, 0.0021071459632366896], 'val_past_key_values_12_accuracy': [0.0025513553991913795, 0.0025228296872228384, 0.002699434757232666, 0.0023682028986513615, 0.0023537816014140844, 0.0023784709628671408, 0.002414611168205738, 0.0023727312218397856, 0.0024467133916914463, 0.0024830843321979046, 0.0024949098005890846, 0.0024481555446982384, 0.0023587136529386044, 0.0024313400499522686, 0.0024957749992609024, 0.002575785154476762, 0.0022999029606580734, 0.0024581928737461567, 0.002512013539671898, 0.0024872953072190285, 0.0024953712709248066]}"
   ]
  },
  {
   "cell_type": "code",
   "execution_count": 2,
   "metadata": {},
   "outputs": [
    {
     "data": {
      "image/png": "[encoded data removed]",
      "text/plain": [
       "<Figure size 432x288 with 1 Axes>"
      ]
     },
     "metadata": {
      "needs_background": "light"
     },
     "output_type": "display_data"
    }
   ],
   "source": [
    "from matplotlib import pyplot\n",
    "\n",
    "pyplot.plot(history['loss'], label='train')\n",
    "pyplot.plot(history['val_loss'], label='validation')\n",
    "pyplot.legend()\n",
    "pyplot.show()"
   ]
  },
  {
   "cell_type": "code",
   "execution_count": null,
   "metadata": {},
   "outputs": [],
   "source": [
    "图为训练过程中模型在训练集和验证集的损失。如图所示，训练在第二十一轮停止，即回调函数检测到模型在验证集中的损失已经无法下降。尽管在训练集中，损失保持着持续下降的趋势，模型在验证集的损失在第十轮训练后已经趋于平缓，所以认为模型训练可以终止。"
   ]
  },
  {
   "cell_type": "code",
   "execution_count": 3,
   "metadata": {},
   "outputs": [
    {
     "data": {
      "image/png": "[encoded data removed]",
      "text/plain": [
       "<Figure size 432x288 with 1 Axes>"
      ]
     },
     "metadata": {
      "needs_background": "light"
     },
     "output_type": "display_data"
    }
   ],
   "source": [
    "pyplot.plot(history['logits_accuracy'], label='train')\n",
    "pyplot.plot(history['val_logits_accuracy'], label='validation')\n",
    "pyplot.legend()\n",
    "pyplot.show()"
   ]
  },
  {
   "cell_type": "code",
   "execution_count": null,
   "metadata": {},
   "outputs": [],
   "source": [
    "图为训练过程中训练集和验证集的逻辑准确率。如图所示，与损失类似，在第十轮后模型在验证集的逻辑准确率已经逐渐平坦。"
   ]
  }
 ],
 "metadata": {
  "kernelspec": {
   "display_name": "Python [conda env:keras] *",
   "language": "python",
   "name": "conda-env-keras-py"
  },
  "language_info": {
   "codemirror_mode": {
    "name": "ipython",
    "version": 3
   },
   "file_extension": ".py",
   "mimetype": "text/x-python",
   "name": "python",
   "nbconvert_exporter": "python",
   "pygments_lexer": "ipython3",
   "version": "3.6.10"
  }
 },
 "nbformat": 4,
 "nbformat_minor": 4
}
